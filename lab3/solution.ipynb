{
 "cells": [
  {
   "cell_type": "code",
   "execution_count": null,
   "id": "f773d150",
   "metadata": {},
   "outputs": [],
   "source": [
    "import numpy as np\n",
    "import math"
   ]
  },
  {
   "cell_type": "code",
   "execution_count": 2,
   "id": "1c565b28",
   "metadata": {},
   "outputs": [],
   "source": [
    "class Market():\n",
    "    \"\"\"\n",
    "    Represents a binomial market model (CRR).\n",
    "    \"\"\"\n",
    "    def __init__(self, starting_price, u, d, r, T):\n",
    "        \"\"\"\n",
    "        Parameters:\n",
    "        starting_price (float): Initial price of the asset.\n",
    "        u (float): Up factor.\n",
    "        d (float): Down factor.\n",
    "        r (float): Risk-free interest rate.\n",
    "        T (int): Time steps.\n",
    "        \"\"\"\n",
    "        self.starting_price = starting_price\n",
    "        self.u = u\n",
    "        self.d = d\n",
    "        self.r = r\n",
    "        self.T = T\n",
    "        self.prob = (1 + r - d) / (u - d)  # Risk-neutral probability\n",
    "\n",
    "\n",
    "    def calculate_price(self, instrument, time=0, path=None):\n",
    "        if path is None:\n",
    "            path = [self.starting_price]  \n",
    "\n",
    "        current_price = path[-1]  \n",
    "\n",
    "        # (t+1) price \n",
    "        up_price = current_price * self.u\n",
    "        down_price = current_price * self.d\n",
    "\n",
    "        # Base case\n",
    "        if time == self.T:\n",
    "            return instrument(path)\n",
    "\n",
    "        # Recursive case\n",
    "        up_value = self.calculate_price(instrument, time + 1, path + [up_price])\n",
    "        down_value = self.calculate_price(instrument, time + 1, path + [down_price])\n",
    "\n",
    "        expected_value = self.prob * up_value + (1 - self.prob) * down_value\n",
    "        discounted_value = expected_value / (1 + self.r)\n",
    "\n",
    "        return discounted_value"
   ]
  },
  {
   "cell_type": "code",
   "execution_count": 3,
   "id": "dfd67290",
   "metadata": {},
   "outputs": [],
   "source": [
    "def theoretical_option_pricing(S0, u, d, r, T, K, option_type='call'):\n",
    "    discount_factor = 1 / (1 + r) ** T\n",
    "    p_star = (1 + r - d) / (u - d)\n",
    "\n",
    "    C = 0\n",
    "    for j in range(T+1):\n",
    "        if option_type == 'call':\n",
    "            C += math.comb(T, j) * (p_star ** j) * ((1 - p_star) ** (T - j)) * max(0, S0 * (u ** j) * (d ** (T - j)) - K)\n",
    "        elif option_type == 'put':\n",
    "            C += math.comb(T, j) * (p_star ** j) * ((1 - p_star) ** (T - j)) * max(0, K - S0 * (u ** j) * (d ** (T - j)))\n",
    "        else:\n",
    "            raise ValueError(\"Invalid option type. Use 'call' or 'put'.\")\n",
    "\n",
    "    return C * discount_factor"
   ]
  },
  {
   "cell_type": "code",
   "execution_count": 4,
   "id": "ab686df7",
   "metadata": {},
   "outputs": [],
   "source": [
    "market = Market(starting_price=100, u=1.3, d=0.8, r=0.1, T=10)\n",
    "\n",
    "def max_payoff(path):\n",
    "    return max(path)  \n",
    "\n",
    "def call_option(path):\n",
    "    return max(path[-1] - 90, 0)\n",
    "\n",
    "def put_option(path):\n",
    "    return max(90 - path[-1], 0)   "
   ]
  },
  {
   "cell_type": "code",
   "execution_count": 5,
   "id": "5b5d7874",
   "metadata": {},
   "outputs": [
    {
     "name": "stdout",
     "output_type": "stream",
     "text": [
      "Lookback Option Price: 116.88\n",
      "Call Option Price: 66.97, Theoretical: 66.97\n",
      "Put Option Price: 1.67, Theoretical: 1.67\n"
     ]
    }
   ],
   "source": [
    "max_price = market.calculate_price(max_payoff)\n",
    "call_price = market.calculate_price(call_option)\n",
    "put_price = market.calculate_price(put_option)\n",
    "\n",
    "theoretical_call_price = theoretical_option_pricing(100, 1.3, 0.8, 0.1, 10, 90, 'call')\n",
    "theoretical_put_price = theoretical_option_pricing(100, 1.3, 0.8, 0.1, 10, 90, 'put')\n",
    "\n",
    "print(f\"Lookback Option Price: {max_price:.2f}\")\n",
    "print(f\"Call Option Price: {call_price:.2f}, Theoretical: {theoretical_call_price:.2f}\")\n",
    "print(f\"Put Option Price: {put_price:.2f}, Theoretical: {theoretical_put_price:.2f}\")"
   ]
  }
 ],
 "metadata": {
  "kernelspec": {
   "display_name": "Python 3",
   "language": "python",
   "name": "python3"
  },
  "language_info": {
   "codemirror_mode": {
    "name": "ipython",
    "version": 3
   },
   "file_extension": ".py",
   "mimetype": "text/x-python",
   "name": "python",
   "nbconvert_exporter": "python",
   "pygments_lexer": "ipython3",
   "version": "3.12.2"
  }
 },
 "nbformat": 4,
 "nbformat_minor": 5
}
